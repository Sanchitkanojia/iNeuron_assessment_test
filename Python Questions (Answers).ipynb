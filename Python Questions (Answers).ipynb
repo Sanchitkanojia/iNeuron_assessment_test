{
 "cells": [
  {
   "cell_type": "markdown",
   "id": "0a325633",
   "metadata": {},
   "source": [
    "## Python"
   ]
  },
  {
   "cell_type": "markdown",
   "id": "0bc15394",
   "metadata": {},
   "source": [
    "## Question 1:\n",
    "\n",
    "Write an efficient algorithm that searches for a value target in an m x n integer matrix. This matrix has the following properties:\n",
    "\n",
    "1. Integers in each row are sorted from right to left.\n",
    "\n",
    "2. The first integer of each row is greater than the last integer of the previous row.\n",
    "\n",
    "Example-: \n",
    "\n",
    "                                        Input: matrix = [[1,3,5,7],[10,11,16,20],[23,30,34,60]], target = 3\n",
    "\n",
    "                                         Output: True\n",
    "                                        "
   ]
  },
  {
   "cell_type": "code",
   "execution_count": 8,
   "id": "8da3fa26",
   "metadata": {},
   "outputs": [
    {
     "name": "stdout",
     "output_type": "stream",
     "text": [
      "True\n"
     ]
    }
   ],
   "source": [
    "def searchMatrix(matrix, target):\n",
    "    if not matrix:\n",
    "        return False\n",
    "\n",
    "    n = len(matrix)  # rows\n",
    "    m = len(matrix[0])  # cols\n",
    "\n",
    "    lo = 0\n",
    "    h = n * m - 1\n",
    "\n",
    "    while lo <= h:\n",
    "        mid = lo + (h - lo) // 2\n",
    "        if matrix[mid // m][mid % m] == target:\n",
    "            return True\n",
    "        elif matrix[mid // m][mid % m] < target:\n",
    "            lo = mid + 1\n",
    "        else:\n",
    "            h = mid - 1\n",
    "\n",
    "    return False\n",
    "\n",
    "# Example test case\n",
    "matrix = [[1, 3, 5, 7], [10, 11, 16, 20], [23, 30, 34, 60]]\n",
    "target = 3\n",
    "result = searchMatrix(matrix, target)\n",
    "print(result)\n"
   ]
  },
  {
   "cell_type": "markdown",
   "id": "3f7281ff",
   "metadata": {},
   "source": [
    "## Question 2: \n",
    "Write a program that takes a string as input, and counts the frequency of each word in the string, there might  be repeated characters in the string. Your task is to find the highest frequency and returns the length of the  highest-frequency word. \n"
   ]
  },
  {
   "cell_type": "code",
   "execution_count": 15,
   "id": "888b4374",
   "metadata": {},
   "outputs": [],
   "source": [
    "def highest_frequency_word_length(input_string):\n",
    "    word_frequency = {}\n",
    "\n",
    "    # Split the input string into words\n",
    "    words = input_string.split()    \n",
    "\n",
    "    # Count the frequency of each word\n",
    "    for word in words:                                        \n",
    "        word_frequency[word] = word_frequency.get(word, 0) + 1\n",
    "        \n",
    "    # Find the word with the highest frequency\n",
    "    max_word = max(word_frequency, key=word_frequency.get)    \n",
    "\n",
    "    return len(max_word)                                      \n",
    "\n",
    "# test case 1:\n",
    "input_string = \"apple banana orange banana apple apple orange\"\n",
    "result = highest_frequency_word_length(input_string)\n",
    "print(result)    # the output is the length of the word \"apple\" is 5 which has the highest frequency.\n",
    "\n",
    "# test case 2:\n",
    "\n",
    "input_string = \"python is a powerful and versatile programming language python is widely used\"\n",
    "result = highest_frequency_word_length(input_string)\n",
    "print(result)    # the output is the length of the word \"python\" is 6 which has the highest frequency."
   ]
  },
  {
   "cell_type": "code",
   "execution_count": 16,
   "id": "d26f8b1c",
   "metadata": {},
   "outputs": [
    {
     "name": "stdout",
     "output_type": "stream",
     "text": [
      "5\n",
      "6\n"
     ]
    }
   ],
   "source": []
  },
  {
   "cell_type": "markdown",
   "id": "764c53a9",
   "metadata": {},
   "source": []
  },
  {
   "cell_type": "code",
   "execution_count": null,
   "id": "96211c73",
   "metadata": {},
   "outputs": [],
   "source": []
  },
  {
   "cell_type": "code",
   "execution_count": null,
   "id": "eb9b4b50",
   "metadata": {},
   "outputs": [],
   "source": []
  },
  {
   "cell_type": "code",
   "execution_count": null,
   "id": "4a45631a",
   "metadata": {},
   "outputs": [],
   "source": []
  },
  {
   "cell_type": "code",
   "execution_count": null,
   "id": "0209e651",
   "metadata": {},
   "outputs": [],
   "source": []
  },
  {
   "cell_type": "code",
   "execution_count": null,
   "id": "f0d102f6",
   "metadata": {},
   "outputs": [],
   "source": []
  },
  {
   "cell_type": "code",
   "execution_count": null,
   "id": "206f3fad",
   "metadata": {},
   "outputs": [],
   "source": []
  },
  {
   "cell_type": "code",
   "execution_count": null,
   "id": "bd0fb1f3",
   "metadata": {},
   "outputs": [],
   "source": []
  }
 ],
 "metadata": {
  "kernelspec": {
   "display_name": "Python 3 (ipykernel)",
   "language": "python",
   "name": "python3"
  },
  "language_info": {
   "codemirror_mode": {
    "name": "ipython",
    "version": 3
   },
   "file_extension": ".py",
   "mimetype": "text/x-python",
   "name": "python",
   "nbconvert_exporter": "python",
   "pygments_lexer": "ipython3",
   "version": "3.11.4"
  }
 },
 "nbformat": 4,
 "nbformat_minor": 5
}
